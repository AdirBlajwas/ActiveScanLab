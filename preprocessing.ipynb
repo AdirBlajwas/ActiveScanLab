{
 "cells": [
  {
   "cell_type": "markdown",
   "id": "39633887",
   "metadata": {},
   "source": [
    "# 1 Imports"
   ]
  },
  {
   "cell_type": "code",
   "execution_count": 56,
   "id": "a6b8d5b2",
   "metadata": {},
   "outputs": [],
   "source": [
    "import os\n",
    "import pandas as pd\n",
    "from PIL import Image\n",
    "from sklearn.model_selection import train_test_split\n",
    "\n",
    "import torch\n",
    "from torch.utils.data import Dataset, DataLoader\n",
    "from torchvision import transforms, models\n",
    "import torch.nn as nn\n",
    "import torch.optim as optim\n",
    "from torchvision.models import resnet50\n",
    "\n",
    "from tqdm import tqdm"
   ]
  },
  {
   "cell_type": "markdown",
   "id": "0f7426b0",
   "metadata": {},
   "source": [
    "# 2 Find All Available Image Files (Fixed for Your Structure)"
   ]
  },
  {
   "cell_type": "code",
   "execution_count": 57,
   "id": "fada6469",
   "metadata": {},
   "outputs": [
    {
     "name": "stdout",
     "output_type": "stream",
     "text": [
      "Total image files found: 112120\n"
     ]
    }
   ],
   "source": [
    "image_folders = [f\"images_{str(i).zfill(3)}_lighter/images\" for i in range(1, 13)]\n",
    "available_images = set()\n",
    "\n",
    "for folder in image_folders:\n",
    "    folder_path = os.path.join(\"nih_chest_xrays_light\", folder)\n",
    "    if os.path.exists(folder_path):\n",
    "        for fname in os.listdir(folder_path):\n",
    "            if fname.lower().endswith(('.png', '.jpg', '.jpeg')):\n",
    "                available_images.add(fname)\n",
    "\n",
    "print(\"Total image files found:\", len(available_images))\n"
   ]
  },
  {
   "cell_type": "markdown",
   "id": "16139949",
   "metadata": {},
   "source": [
    "# 3 Load CSV and Filter Valid Images"
   ]
  },
  {
   "cell_type": "code",
   "execution_count": 58,
   "id": "859e5c36",
   "metadata": {},
   "outputs": [
    {
     "name": "stdout",
     "output_type": "stream",
     "text": [
      "Filtered dataset size: 112120\n",
      "Label distribution:\n",
      " label\n",
      "0    60361\n",
      "1    51759\n",
      "Name: count, dtype: int64\n"
     ]
    }
   ],
   "source": [
    "df = pd.read_csv(\"nih_chest_xrays_light/Data_Entry_2017 copy.csv\")\n",
    "\n",
    "# Fix the extension from .png to .jpg\n",
    "df['Image Index'] = df['Image Index'].str.strip().str.replace('.png', '.jpg')\n",
    "\n",
    "# Add binary label\n",
    "df['label'] = df['Finding Labels'].apply(lambda x: 0 if x == 'No Finding' else 1)\n",
    "\n",
    "# Keep only rows where the image file actually exists\n",
    "df = df[df['Image Index'].isin(available_images)]\n",
    "\n",
    "print(\"Filtered dataset size:\", len(df))\n",
    "print(\"Label distribution:\\n\", df['label'].value_counts())\n"
   ]
  },
  {
   "cell_type": "markdown",
   "id": "69704c09",
   "metadata": {},
   "source": [
    "# 4 Define Image Transformations"
   ]
  },
  {
   "cell_type": "code",
   "execution_count": 59,
   "id": "1408a995",
   "metadata": {},
   "outputs": [],
   "source": [
    "transform = transforms.Compose([\n",
    "    transforms.Resize((224, 224)),\n",
    "    transforms.ToTensor(),\n",
    "    transforms.Normalize([0.485, 0.456, 0.406],\n",
    "                         [0.229, 0.224, 0.225])\n",
    "])\n"
   ]
  },
  {
   "cell_type": "markdown",
   "id": "2f38a35b",
   "metadata": {},
   "source": [
    "# 5 Define Custom Dataset Class"
   ]
  },
  {
   "cell_type": "code",
   "execution_count": 60,
   "id": "21df9ed4",
   "metadata": {},
   "outputs": [],
   "source": [
    "class ChestXrayDataset(Dataset):\n",
    "    def __init__(self, df, root_dir, transform=None):\n",
    "        self.df = df.reset_index(drop=True)\n",
    "        self.root_dir = root_dir\n",
    "        self.transform = transform\n",
    "\n",
    "    def __len__(self):\n",
    "        return len(self.df)\n",
    "\n",
    "    def __getitem__(self, idx):\n",
    "        img_name = self.df.loc[idx, 'Image Index']\n",
    "        label = self.df.loc[idx, 'label']\n",
    "        img_path = self._find_image(img_name)\n",
    "        image = Image.open(img_path).convert(\"RGB\")\n",
    "        if self.transform:\n",
    "            image = self.transform(image)\n",
    "        return image, label\n",
    "\n",
    "    def _find_image(self, filename):\n",
    "        for i in range(1, 13):\n",
    "            path = os.path.join(self.root_dir, f\"images_{str(i).zfill(3)}_lighter\", \"images\", filename)\n",
    "            if os.path.exists(path):\n",
    "                return path\n",
    "        raise FileNotFoundError(f\"{filename} not found.\")\n"
   ]
  },
  {
   "cell_type": "markdown",
   "id": "27eb0378",
   "metadata": {},
   "source": [
    "# 6 Create Datasets and Loaders"
   ]
  },
  {
   "cell_type": "code",
   "execution_count": 61,
   "id": "0a3b8436",
   "metadata": {},
   "outputs": [
    {
     "name": "stdout",
     "output_type": "stream",
     "text": [
      "Official split sizes:\n",
      "Train: 86524\n",
      "Test: 25596\n"
     ]
    }
   ],
   "source": [
    "# Load split lists\n",
    "with open(\"nih_chest_xrays_light/train_val_list copy.txt\", 'r') as f:\n",
    "    train_files = set(x.strip().replace('.png', '.jpg') for x in f.readlines())\n",
    "\n",
    "with open(\"nih_chest_xrays_light/test_list copy.txt\", 'r') as f:\n",
    "    test_files = set(x.strip().replace('.png', '.jpg') for x in f.readlines())\n",
    "\n",
    "# Filter df using available image list\n",
    "train_df = df[df['Image Index'].isin(train_files)]\n",
    "test_df = df[df['Image Index'].isin(test_files)]\n",
    "\n",
    "print(\"Official split sizes:\")\n",
    "print(\"Train:\", len(train_df))\n",
    "print(\"Test:\", len(test_df))\n"
   ]
  },
  {
   "cell_type": "code",
   "execution_count": 62,
   "id": "2c86c550",
   "metadata": {},
   "outputs": [
    {
     "name": "stdout",
     "output_type": "stream",
     "text": [
      "label\n",
      "0    0.538363\n",
      "1    0.461637\n",
      "Name: proportion, dtype: float64\n"
     ]
    }
   ],
   "source": [
    "train_df, test_df = train_test_split(df, test_size=0.2, stratify=df['label'])\n",
    "\n",
    "train_dataset = ChestXrayDataset(train_df, \"nih_chest_xrays_light\", transform=transform)\n",
    "test_dataset = ChestXrayDataset(test_df, \"nih_chest_xrays_light\", transform=transform)\n",
    "\n",
    "train_loader = DataLoader(train_dataset, batch_size=32, shuffle=True)\n",
    "test_loader = DataLoader(test_dataset, batch_size=32, shuffle=False)\n",
    "\n",
    "print(train_df['label'].value_counts(normalize=True))"
   ]
  },
  {
   "cell_type": "code",
   "execution_count": 74,
   "id": "4d9b8fad",
   "metadata": {},
   "outputs": [
    {
     "name": "stdout",
     "output_type": "stream",
     "text": [
      "mps\n"
     ]
    }
   ],
   "source": [
    "if torch.backends.mps.is_available():\n",
    "    device = torch.device(\"mps\")\n",
    "elif torch.cuda.is_available():\n",
    "    device = torch.device(\"cuda\")\n",
    "else:\n",
    "    device = torch.device(\"cpu\")\n",
    "print(device)"
   ]
  },
  {
   "cell_type": "markdown",
   "id": "4d81c2af",
   "metadata": {},
   "source": [
    "# 7 Training Function"
   ]
  },
  {
   "cell_type": "code",
   "execution_count": 64,
   "id": "5de8e0ba",
   "metadata": {},
   "outputs": [],
   "source": [
    "def train_model(criterion, optimizer, model, dataloader, epochs=3):\n",
    "    model.train()\n",
    "\n",
    "    for epoch in range(epochs):\n",
    "        total_loss = 0\n",
    "        for images, labels in tqdm(dataloader):\n",
    "            images = images.to(device)\n",
    "            labels = labels.float().unsqueeze(1).to(device)\n",
    "\n",
    "            optimizer.zero_grad()\n",
    "            outputs = model(images)\n",
    "\n",
    "            # temp\n",
    "            #with torch.no_grad():\n",
    "            #    print(\"Output stats:\", outputs.min().item(), outputs.max().item())\n",
    "            # end temp\n",
    "\n",
    "            loss = criterion(outputs, labels)\n",
    "            loss.backward()\n",
    "\n",
    "            # temp\n",
    "            #for name, param in model.named_parameters():\n",
    "            #    if param.requires_grad and param.grad is not None:\n",
    "            #        print(f\"{name}: grad norm = {param.grad.norm().item()}\")\n",
    "            # end temp \n",
    "            \n",
    "            optimizer.step()\n",
    "\n",
    "            total_loss += loss.item()\n",
    "        print(f\"Epoch {epoch+1}, Loss: {total_loss/len(dataloader):.4f}\")\n"
   ]
  },
  {
   "cell_type": "markdown",
   "id": "d0e04dc2",
   "metadata": {},
   "source": [
    "# 8 Evaluation Function"
   ]
  },
  {
   "cell_type": "code",
   "execution_count": 70,
   "id": "36fc1415",
   "metadata": {},
   "outputs": [],
   "source": [
    "def evaluate(model, dataloader):\n",
    "    model.eval()\n",
    "    correct = 0\n",
    "    total = 0\n",
    "    with torch.no_grad():\n",
    "        for images, labels in dataloader:\n",
    "            images = images.to(device)\n",
    "            labels = labels.to(device)\n",
    "            outputs = model(images)\n",
    "            preds = torch.sigmoid(outputs).squeeze() > 0.5\n",
    "            correct += (preds.int() == labels).sum().item()\n",
    "            total += labels.size(0)\n",
    "    print(f\"Accuracy: {correct / total * 100:.2f}%\")\n"
   ]
  },
  {
   "cell_type": "markdown",
   "id": "30b23617",
   "metadata": {},
   "source": [
    "# ResNet-18 Model"
   ]
  },
  {
   "cell_type": "code",
   "execution_count": 66,
   "id": "f37a0d7d",
   "metadata": {},
   "outputs": [
    {
     "name": "stderr",
     "output_type": "stream",
     "text": [
      "/Users/alexa/Desktop/technion/semester_8/lab2/ActiveScanLab/env_ActiveScanLab/lib/python3.10/site-packages/torchvision/models/_utils.py:208: UserWarning: The parameter 'pretrained' is deprecated since 0.13 and may be removed in the future, please use 'weights' instead.\n",
      "  warnings.warn(\n",
      "/Users/alexa/Desktop/technion/semester_8/lab2/ActiveScanLab/env_ActiveScanLab/lib/python3.10/site-packages/torchvision/models/_utils.py:223: UserWarning: Arguments other than a weight enum or `None` for 'weights' are deprecated since 0.13 and may be removed in the future. The current behavior is equivalent to passing `weights=ResNet18_Weights.IMAGENET1K_V1`. You can also use `weights=ResNet18_Weights.DEFAULT` to get the most up-to-date weights.\n",
      "  warnings.warn(msg)\n"
     ]
    }
   ],
   "source": [
    "resnet18_model = models.resnet18(pretrained=True)\n",
    "resnet18_model.fc = nn.Linear(resnet18_model.fc.in_features, 1)\n",
    "resnet18_model = resnet18_model.to(device)\n",
    "\n",
    "resnet18_criterion = nn.BCEWithLogitsLoss()\n",
    "resnet18_optimizer = optim.Adam(resnet18_model.parameters(), lr=0.0001)"
   ]
  },
  {
   "cell_type": "markdown",
   "id": "c096974a",
   "metadata": {},
   "source": [
    "the trainning data i used in the run of this cell is not good !!!"
   ]
  },
  {
   "cell_type": "code",
   "execution_count": null,
   "id": "61c43eef",
   "metadata": {},
   "outputs": [
    {
     "name": "stderr",
     "output_type": "stream",
     "text": [
      "100%|██████████| 2803/2803 [2:19:46<00:00,  2.99s/it]    \n"
     ]
    },
    {
     "name": "stdout",
     "output_type": "stream",
     "text": [
      "Epoch 1, Loss: 0.5976\n"
     ]
    },
    {
     "name": "stderr",
     "output_type": "stream",
     "text": [
      "100%|██████████| 2803/2803 [3:34:34<00:00,  4.59s/it]     \n"
     ]
    },
    {
     "name": "stdout",
     "output_type": "stream",
     "text": [
      "Epoch 2, Loss: 0.5733\n"
     ]
    },
    {
     "name": "stderr",
     "output_type": "stream",
     "text": [
      "100%|██████████| 2803/2803 [3:51:01<00:00,  4.95s/it]    \n"
     ]
    },
    {
     "name": "stdout",
     "output_type": "stream",
     "text": [
      "Epoch 3, Loss: 0.5530\n",
      "Accuracy: 68.80%\n"
     ]
    }
   ],
   "source": [
    "train_model(resnet18_criterion, resnet18_optimizer, resnet18_model, train_loader, epochs=3)\n",
    "evaluate(resnet18_model, test_loader)"
   ]
  },
  {
   "cell_type": "markdown",
   "id": "ffccc8c6",
   "metadata": {},
   "source": [
    "# ResNet-50 Model"
   ]
  },
  {
   "cell_type": "code",
   "execution_count": 72,
   "id": "b7fd17de",
   "metadata": {},
   "outputs": [
    {
     "name": "stderr",
     "output_type": "stream",
     "text": [
      "/Users/alexa/Desktop/technion/semester_8/lab2/ActiveScanLab/env_ActiveScanLab/lib/python3.10/site-packages/torchvision/models/_utils.py:208: UserWarning: The parameter 'pretrained' is deprecated since 0.13 and may be removed in the future, please use 'weights' instead.\n",
      "  warnings.warn(\n",
      "/Users/alexa/Desktop/technion/semester_8/lab2/ActiveScanLab/env_ActiveScanLab/lib/python3.10/site-packages/torchvision/models/_utils.py:223: UserWarning: Arguments other than a weight enum or `None` for 'weights' are deprecated since 0.13 and may be removed in the future. The current behavior is equivalent to passing `weights=ResNet50_Weights.IMAGENET1K_V1`. You can also use `weights=ResNet50_Weights.DEFAULT` to get the most up-to-date weights.\n",
      "  warnings.warn(msg)\n"
     ]
    }
   ],
   "source": [
    "# Define ResNet-50 Model\n",
    "resnet50_model = resnet50(pretrained=True)\n",
    "resnet50_model.fc = nn.Linear(resnet50_model.fc.in_features, 1)\n",
    "resnet50_model = resnet50_model.to(device)\n",
    "\n",
    "# Freeze backbone\n",
    "for param in resnet50_model.parameters():\n",
    "    param.requires_grad = False\n",
    "# Unfreeze only the final layer\n",
    "for param in resnet50_model.fc.parameters():\n",
    "    param.requires_grad = True\n",
    "\n",
    "resnet50_criterion = nn.BCEWithLogitsLoss()\n",
    "resnet50_optimizer = optim.Adam(resnet50_model.fc.parameters(), lr=1e-3)"
   ]
  },
  {
   "cell_type": "code",
   "execution_count": null,
   "id": "58b5caa5",
   "metadata": {},
   "outputs": [],
   "source": [
    "# Train & Evaluate\n",
    "train_model(resnet50_criterion, resnet50_optimizer, resnet50_model, train_loader, epochs=4)\n",
    "evaluate(resnet50_model, test_loader)"
   ]
  },
  {
   "cell_type": "code",
   "execution_count": null,
   "id": "3242078f",
   "metadata": {},
   "outputs": [
    {
     "name": "stderr",
     "output_type": "stream",
     "text": [
      "100%|██████████| 313/313 [02:58<00:00,  1.76it/s]\n"
     ]
    },
    {
     "name": "stdout",
     "output_type": "stream",
     "text": [
      "Epoch 1, Loss: 0.6515\n"
     ]
    },
    {
     "name": "stderr",
     "output_type": "stream",
     "text": [
      "100%|██████████| 313/313 [02:59<00:00,  1.75it/s]\n"
     ]
    },
    {
     "name": "stdout",
     "output_type": "stream",
     "text": [
      "Epoch 2, Loss: 0.6294\n"
     ]
    },
    {
     "name": "stderr",
     "output_type": "stream",
     "text": [
      "100%|██████████| 313/313 [03:00<00:00,  1.73it/s]\n"
     ]
    },
    {
     "name": "stdout",
     "output_type": "stream",
     "text": [
      "Epoch 3, Loss: 0.6249\n"
     ]
    },
    {
     "name": "stderr",
     "output_type": "stream",
     "text": [
      "100%|██████████| 313/313 [03:12<00:00,  1.63it/s]\n"
     ]
    },
    {
     "name": "stdout",
     "output_type": "stream",
     "text": [
      "Epoch 4, Loss: 0.6287\n"
     ]
    },
    {
     "name": "stderr",
     "output_type": "stream",
     "text": [
      "100%|██████████| 313/313 [03:11<00:00,  1.64it/s]\n"
     ]
    },
    {
     "name": "stdout",
     "output_type": "stream",
     "text": [
      "Epoch 5, Loss: 0.6253\n"
     ]
    },
    {
     "name": "stderr",
     "output_type": "stream",
     "text": [
      "100%|██████████| 313/313 [03:06<00:00,  1.68it/s]\n"
     ]
    },
    {
     "name": "stdout",
     "output_type": "stream",
     "text": [
      "Epoch 6, Loss: 0.6302\n"
     ]
    },
    {
     "name": "stderr",
     "output_type": "stream",
     "text": [
      "100%|██████████| 313/313 [03:05<00:00,  1.69it/s]\n"
     ]
    },
    {
     "name": "stdout",
     "output_type": "stream",
     "text": [
      "Epoch 7, Loss: 0.6238\n"
     ]
    },
    {
     "name": "stderr",
     "output_type": "stream",
     "text": [
      "100%|██████████| 313/313 [03:10<00:00,  1.64it/s]\n"
     ]
    },
    {
     "name": "stdout",
     "output_type": "stream",
     "text": [
      "Epoch 8, Loss: 0.6137\n",
      "Accuracy: 65.66%\n"
     ]
    }
   ],
   "source": [
    "# Take just 10000 samples to train faster\n",
    "small_train_df = train_df.sample(10000, random_state=42)\n",
    "small_train_dataset = ChestXrayDataset(small_train_df, \"nih_chest_xrays_light\", transform=transform)\n",
    "small_train_loader = DataLoader(small_train_dataset, batch_size=32, shuffle=True)\n",
    "\n",
    "# Try training for 8 epochs\n",
    "train_model(resnet50_criterion, resnet50_optimizer, resnet50_model, small_train_loader, epochs=8)\n",
    "evaluate(resnet50_model, test_loader)"
   ]
  }
 ],
 "metadata": {
  "kernelspec": {
   "display_name": "env_ActiveScanLab",
   "language": "python",
   "name": "python3"
  },
  "language_info": {
   "codemirror_mode": {
    "name": "ipython",
    "version": 3
   },
   "file_extension": ".py",
   "mimetype": "text/x-python",
   "name": "python",
   "nbconvert_exporter": "python",
   "pygments_lexer": "ipython3",
   "version": "3.10.0"
  }
 },
 "nbformat": 4,
 "nbformat_minor": 5
}
