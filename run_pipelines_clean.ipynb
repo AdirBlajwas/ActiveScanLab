{
 "cells": [
  {
   "cell_type": "markdown",
   "id": "13ce8e69",
   "metadata": {},
   "source": [
    "## 0 Server and Directory Checks"
   ]
  },
  {
   "cell_type": "code",
   "execution_count": null,
   "id": "e74b1ae0",
   "metadata": {},
   "outputs": [],
   "source": [
    "import sys\n",
    "import os\n",
    "\n",
    "print(\"Python executable:\", sys.executable)\n",
    "print(\"Current working directory:\", os.getcwd())"
   ]
  },
  {
   "cell_type": "markdown",
   "id": "39633887",
   "metadata": {},
   "source": [
    "## 1 Imports"
   ]
  },
  {
   "cell_type": "code",
   "execution_count": null,
   "id": "a6b8d5b2",
   "metadata": {},
   "outputs": [],
   "source": [
    "import os\n",
    "import pandas as pd\n",
    "from PIL import Image\n",
    "from sklearn.model_selection import train_test_split\n",
    "\n",
    "import torch\n",
    "from torch.utils.data import Dataset, DataLoader\n",
    "from torchvision import transforms, models\n",
    "import torch.nn as nn\n",
    "import torch.optim as optim\n",
    "from torchvision.models import resnet50\n",
    "import random\n",
    "from tqdm import tqdm\n",
    "from classifier_models import Resnet50Model, Resnet18Model, Densenet121Model, BaseResnetModel\n",
    "from active_learning_models import *\n",
    "import numpy as np\n",
    "from sklearn.cluster import KMeans\n",
    "from costume_dataset import ChestXrayDataset"
   ]
  },
  {
   "cell_type": "markdown",
   "id": "c42a12a1",
   "metadata": {},
   "source": [
    "## 1 Run Parameters\n"
   ]
  },
  {
   "cell_type": "code",
   "execution_count": null,
   "id": "2549ca59",
   "metadata": {},
   "outputs": [],
   "source": [
    "dataset_path = \"nih_chest_xrays_light\"\n",
    "batch_size = 32\n",
    "epochs = 3"
   ]
  },
  {
   "cell_type": "code",
   "execution_count": null,
   "id": "4d9b8fad",
   "metadata": {},
   "outputs": [],
   "source": [
    "if torch.backends.mps.is_available():\n",
    "    device = torch.device(\"mps\")\n",
    "elif torch.cuda.is_available():\n",
    "    device = torch.device(\"cuda\")\n",
    "else:\n",
    "    device = torch.device(\"cpu\")\n",
    "print(device)"
   ]
  },
  {
   "cell_type": "markdown",
   "id": "27eb0378",
   "metadata": {},
   "source": [
    "## Create Datasets and Loaders"
   ]
  },
  {
   "cell_type": "code",
   "execution_count": null,
   "id": "1c01d974",
   "metadata": {},
   "outputs": [],
   "source": [
    "dataset = ChestXrayDataset( dataset_path, split_type='from_files')\n",
    "print(\"Sample data:\\n\", dataset.df.head())"
   ]
  },
  {
   "cell_type": "markdown",
   "id": "7aa27a81",
   "metadata": {},
   "source": [
    "# Explore models"
   ]
  },
  {
   "cell_type": "markdown",
   "id": "30b23617",
   "metadata": {},
   "source": [
    "## ResNet-18 Model"
   ]
  },
  {
   "cell_type": "code",
   "execution_count": null,
   "id": "f37a0d7d",
   "metadata": {},
   "outputs": [],
   "source": [
    "resnet18_model = Resnet18Model(optimizer='Adam', loss_function='BCEWithLogitsLoss', freeze=False, pretrained=True)"
   ]
  },
  {
   "cell_type": "code",
   "execution_count": null,
   "id": "61c43eef",
   "metadata": {},
   "outputs": [],
   "source": [
    "train_loader = dataset.get_dataloader(from_split='train')\n",
    "test_loader = dataset.get_dataloader(from_split='test')\n",
    "resnet18_model.train_model(device, train_loader, epochs=3)\n",
    "resnet18_model.evaluate(device, test_loader)"
   ]
  },
  {
   "cell_type": "markdown",
   "id": "ffccc8c6",
   "metadata": {},
   "source": [
    "## ResNet-50 Model"
   ]
  },
  {
   "cell_type": "code",
   "execution_count": null,
   "id": "b7fd17de",
   "metadata": {},
   "outputs": [],
   "source": [
    "# Define ResNet-50 Model\n",
    "resnet50_model = Resnet50Model(optimizer='Adam', loss_function='BCEWithLogitsLoss', freeze=True, pretrained=True)"
   ]
  },
  {
   "cell_type": "code",
   "execution_count": null,
   "id": "58b5caa5",
   "metadata": {},
   "outputs": [],
   "source": [
    "# Train & Evaluate Full Dataset\n",
    "train_loader = dataset.get_dataloader(from_split='train')\n",
    "test_loader = dataset.get_dataloader(from_split='test')\n",
    "\n",
    "resnet50_model.train_model(device, train_loader, epochs=4)\n",
    "resnet50_model.evaluate(device, test_loader)"
   ]
  },
  {
   "cell_type": "code",
   "execution_count": null,
   "id": "3242078f",
   "metadata": {},
   "outputs": [],
   "source": [
    "# # Take just 10000 samples to train faster\n",
    "# small_train_df = train_df.sample(10000, random_state=42)\n",
    "# small_train_dataset = ChestXrayDataset(small_train_df, \"nih_chest_xrays_light\")\n",
    "# small_train_loader = DataLoader(small_train_dataset, batch_size=32, shuffle=True)\n",
    "\n",
    "small_train_loader = dataset.get_dataloader(from_split='train', sample_size=10000)\n",
    "test_loader = dataset.get_dataloader(from_split='test')\n",
    "# Train & Evaluate Full Dataset\n",
    "resnet50_model.train_model(device, small_train_loader, epochs=4)\n",
    "resnet50_model.evaluate(device, test_loader)"
   ]
  },
  {
   "cell_type": "markdown",
   "id": "e98683d8",
   "metadata": {},
   "source": [
    "# AL pipeline\n"
   ]
  },
  {
   "cell_type": "code",
   "execution_count": null,
   "id": "de72b463",
   "metadata": {},
   "outputs": [],
   "source": [
    "# print(dataset)\n",
    "active_learning_pipeline = RandomSamplingActiveLearning(\n",
    "    device=device,\n",
    "    iterations=10,\n",
    "    root_dir=dataset_path,\n",
    "    epochs_per_iter=3,\n",
    "    budget_per_iter=100,\n",
    "    model_name='resnet18',\n",
    "    objective_function_name='BCEWithLogitsLoss',\n",
    "    optimizer_name='Adam',\n",
    "    seed=42,\n",
    "    test_sample_size=1000\n",
    "    # dataset=dataset\n",
    ")\n",
    "\n"
   ]
  },
  {
   "cell_type": "code",
   "execution_count": null,
   "id": "ad08f123",
   "metadata": {},
   "outputs": [],
   "source": [
    "active_learning_pipeline.run_pipeline()\n",
    "plot_results(active_learning_pipeline)"
   ]
  },
  {
   "cell_type": "code",
   "execution_count": null,
   "id": "5b8a443a",
   "metadata": {},
   "outputs": [],
   "source": []
  }
 ],
 "metadata": {
  "kernelspec": {
   "display_name": "venv",
   "language": "python",
   "name": "python3"
  },
  "language_info": {
   "codemirror_mode": {
    "name": "ipython",
    "version": 3
   },
   "file_extension": ".py",
   "mimetype": "text/x-python",
   "name": "python",
   "nbconvert_exporter": "python",
   "pygments_lexer": "ipython3",
   "version": "3.12.11"
  }
 },
 "nbformat": 4,
 "nbformat_minor": 5
}
