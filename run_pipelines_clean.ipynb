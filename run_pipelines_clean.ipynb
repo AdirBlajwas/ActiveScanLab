{
 "cells": [
  {
   "cell_type": "markdown",
   "id": "13ce8e69",
   "metadata": {},
   "source": [
    "## 0 Server and Directory Checks"
   ]
  },
  {
   "cell_type": "code",
   "execution_count": 1,
   "id": "e74b1ae0",
   "metadata": {},
   "outputs": [
    {
     "name": "stdout",
     "output_type": "stream",
     "text": [
      "Python executable: /anaconda/envs/azureml_py310_sdkv2/bin/python\n",
      "Current working directory: /home/student/ActiveScanLab\n"
     ]
    }
   ],
   "source": [
    "import sys\n",
    "import os\n",
    "\n",
    "print(\"Python executable:\", sys.executable)\n",
    "print(\"Current working directory:\", os.getcwd())"
   ]
  },
  {
   "cell_type": "markdown",
   "id": "39633887",
   "metadata": {},
   "source": [
    "## 1 Imports"
   ]
  },
  {
   "cell_type": "code",
   "execution_count": 2,
   "id": "a6b8d5b2",
   "metadata": {},
   "outputs": [
    {
     "name": "stdout",
     "output_type": "stream",
     "text": [
      "Total image files found: 112120\n",
      "Filtered dataset size: 112120\n",
      "Label distribution:\n",
      " label\n",
      "0    60361\n",
      "1    51759\n",
      "Name: count, dtype: int64\n",
      "                 Finding Labels  Follow-up #  Patient ID  Patient Age  \\\n",
      "Image Index                                                             \n",
      "00001720_001.jpg     No Finding            1        1720           13   \n",
      "00002510_002.jpg           Mass            2        2510           48   \n",
      "00008261_000.jpg     No Finding            0        8261           39   \n",
      "00004990_000.jpg     No Finding            0        4990           58   \n",
      "00012075_000.jpg     No Finding            0       12075           47   \n",
      "\n",
      "                 Patient Gender View Position  OriginalImage[Width  Height]  \\\n",
      "Image Index                                                                   \n",
      "00001720_001.jpg              M            PA                 2048     2500   \n",
      "00002510_002.jpg              M            PA                 2500     2048   \n",
      "00008261_000.jpg              M            PA                 2500     2048   \n",
      "00004990_000.jpg              M            AP                 2500     2048   \n",
      "00012075_000.jpg              M            PA                 2992     2991   \n",
      "\n",
      "                  OriginalImagePixelSpacing[x     y]  Unnamed: 11  label  \n",
      "Image Index                                                               \n",
      "00001720_001.jpg                        0.168  0.168          NaN      0  \n",
      "00002510_002.jpg                        0.171  0.171          NaN      1  \n",
      "00008261_000.jpg                        0.168  0.168          NaN      0  \n",
      "00004990_000.jpg                        0.171  0.171          NaN      0  \n",
      "00012075_000.jpg                        0.143  0.143          NaN      0  \n"
     ]
    }
   ],
   "source": [
    "import os\n",
    "import pandas as pd\n",
    "from PIL import Image\n",
    "from sklearn.model_selection import train_test_split\n",
    "\n",
    "import torch\n",
    "from torch.utils.data import Dataset, DataLoader\n",
    "from torchvision import transforms, models\n",
    "import torch.nn as nn\n",
    "import torch.optim as optim\n",
    "from torchvision.models import resnet50\n",
    "import random\n",
    "from tqdm import tqdm\n",
    "from classifier_models import Resnet50Model, Resnet18Model, Densenet121Model, BaseResnetModel\n",
    "from active_learning_models import *\n",
    "import numpy as np\n",
    "from sklearn.cluster import KMeans\n",
    "from costume_dataset import ChestXrayDataset"
   ]
  },
  {
   "cell_type": "markdown",
   "id": "c42a12a1",
   "metadata": {},
   "source": [
    "## 1 Run Parameters\n"
   ]
  },
  {
   "cell_type": "code",
   "execution_count": 3,
   "id": "2549ca59",
   "metadata": {},
   "outputs": [],
   "source": [
    "dataset_path = \"nih_chest_xrays_light\"\n",
    "batch_size = 32\n",
    "epochs = 3"
   ]
  },
  {
   "cell_type": "code",
   "execution_count": 4,
   "id": "4d9b8fad",
   "metadata": {},
   "outputs": [
    {
     "name": "stdout",
     "output_type": "stream",
     "text": [
      "cuda\n"
     ]
    }
   ],
   "source": [
    "if torch.backends.mps.is_available():\n",
    "    device = torch.device(\"mps\")\n",
    "elif torch.cuda.is_available():\n",
    "    device = torch.device(\"cuda\")\n",
    "else:\n",
    "    device = torch.device(\"cpu\")\n",
    "print(device)"
   ]
  },
  {
   "cell_type": "markdown",
   "id": "27eb0378",
   "metadata": {},
   "source": [
    "## Create Datasets and Loaders"
   ]
  },
  {
   "cell_type": "code",
   "execution_count": 5,
   "id": "1c01d974",
   "metadata": {},
   "outputs": [
    {
     "name": "stdout",
     "output_type": "stream",
     "text": [
      "Total image files found: 112120\n",
      "Filtered dataset size: 112120\n",
      "Label distribution:\n",
      " label\n",
      "0    60361\n",
      "1    51759\n",
      "Name: count, dtype: int64\n",
      "Sample data:\n",
      "                           Finding Labels  Follow-up #  Patient ID  \\\n",
      "Image Index                                                         \n",
      "00000001_000.jpg            Cardiomegaly            0           1   \n",
      "00000001_001.jpg  Cardiomegaly|Emphysema            1           1   \n",
      "00000001_002.jpg   Cardiomegaly|Effusion            2           1   \n",
      "00000002_000.jpg              No Finding            0           2   \n",
      "00000003_000.jpg                  Hernia            0           3   \n",
      "\n",
      "                  Patient Age Patient Gender View Position  \\\n",
      "Image Index                                                  \n",
      "00000001_000.jpg           58              M            PA   \n",
      "00000001_001.jpg           58              M            PA   \n",
      "00000001_002.jpg           58              M            PA   \n",
      "00000002_000.jpg           81              M            PA   \n",
      "00000003_000.jpg           81              F            PA   \n",
      "\n",
      "                  OriginalImage[Width  Height]  OriginalImagePixelSpacing[x  \\\n",
      "Image Index                                                                   \n",
      "00000001_000.jpg                 2682     2749                        0.143   \n",
      "00000001_001.jpg                 2894     2729                        0.143   \n",
      "00000001_002.jpg                 2500     2048                        0.168   \n",
      "00000002_000.jpg                 2500     2048                        0.171   \n",
      "00000003_000.jpg                 2582     2991                        0.143   \n",
      "\n",
      "                     y]  Unnamed: 11  label  \n",
      "Image Index                                  \n",
      "00000001_000.jpg  0.143          NaN      1  \n",
      "00000001_001.jpg  0.143          NaN      1  \n",
      "00000001_002.jpg  0.168          NaN      1  \n",
      "00000002_000.jpg  0.171          NaN      0  \n",
      "00000003_000.jpg  0.143          NaN      1  \n"
     ]
    }
   ],
   "source": [
    "dataset = ChestXrayDataset( dataset_path, split_type='from_files')\n",
    "print(\"Sample data:\\n\", dataset.df.head())"
   ]
  },
  {
   "cell_type": "markdown",
   "id": "7aa27a81",
   "metadata": {},
   "source": [
    "# Explore models"
   ]
  },
  {
   "cell_type": "markdown",
   "id": "30b23617",
   "metadata": {},
   "source": [
    "## ResNet-18 Model"
   ]
  },
  {
   "cell_type": "code",
   "execution_count": 6,
   "id": "f37a0d7d",
   "metadata": {},
   "outputs": [
    {
     "name": "stdout",
     "output_type": "stream",
     "text": [
      "Loading pretrained ResNet18 model...\n"
     ]
    }
   ],
   "source": [
    "resnet18_model = Resnet18Model(optimizer='Adam', loss_function='BCEWithLogitsLoss', freeze=False, pretrained=True)"
   ]
  },
  {
   "cell_type": "code",
   "execution_count": null,
   "id": "61c43eef",
   "metadata": {},
   "outputs": [],
   "source": [
    "train_loader = dataset.get_dataloader(from_split='train')\n",
    "test_loader = dataset.get_dataloader(from_split='test')\n",
    "resnet18_model.train_model(device, train_loader, epochs=3)\n",
    "resnet18_model.evaluate(device, test_loader)"
   ]
  },
  {
   "cell_type": "markdown",
   "id": "ffccc8c6",
   "metadata": {},
   "source": [
    "## ResNet-50 Model"
   ]
  },
  {
   "cell_type": "code",
   "execution_count": 9,
   "id": "b7fd17de",
   "metadata": {},
   "outputs": [
    {
     "name": "stdout",
     "output_type": "stream",
     "text": [
      "Loading pretrained ResNet50 model...\n"
     ]
    }
   ],
   "source": [
    "# Define ResNet-50 Model\n",
    "resnet50_model = Resnet50Model(optimizer='Adam', loss_function='BCEWithLogitsLoss', freeze=True, pretrained=True)"
   ]
  },
  {
   "cell_type": "code",
   "execution_count": null,
   "id": "58b5caa5",
   "metadata": {},
   "outputs": [],
   "source": [
    "# Train & Evaluate Full Dataset\n",
    "train_loader = dataset.get_dataloader(from_split='train')\n",
    "test_loader = dataset.get_dataloader(from_split='test')\n",
    "\n",
    "resnet50_model.train_model(device, train_loader, epochs=4)\n",
    "resnet50_model.evaluate(device, test_loader)"
   ]
  },
  {
   "cell_type": "code",
   "execution_count": null,
   "id": "3242078f",
   "metadata": {},
   "outputs": [],
   "source": [
    "# # Take just 10000 samples to train faster\n",
    "# small_train_df = train_df.sample(10000, random_state=42)\n",
    "# small_train_dataset = ChestXrayDataset(small_train_df, \"nih_chest_xrays_light\")\n",
    "# small_train_loader = DataLoader(small_train_dataset, batch_size=32, shuffle=True)\n",
    "\n",
    "small_train_loader = dataset.get_dataloader(from_split='train', sample_size=10000)\n",
    "test_loader = dataset.get_dataloader(from_split='test')\n",
    "# Train & Evaluate Full Dataset\n",
    "resnet50_model.train_model(device, small_train_loader, epochs=4)\n",
    "resnet50_model.evaluate(device, test_loader)"
   ]
  },
  {
   "cell_type": "markdown",
   "id": "e98683d8",
   "metadata": {},
   "source": [
    "# AL pipeline\n"
   ]
  },
  {
   "cell_type": "code",
   "execution_count": 7,
   "id": "de72b463",
   "metadata": {},
   "outputs": [
    {
     "name": "stdout",
     "output_type": "stream",
     "text": [
      "Total image files found: 112120\n",
      "Filtered dataset size: 112120\n",
      "Label distribution:\n",
      " label\n",
      "0    60361\n",
      "1    51759\n",
      "Name: count, dtype: int64\n"
     ]
    }
   ],
   "source": [
    "# print(dataset)\n",
    "active_learning_pipeline = RandomSamplingActiveLearning(\n",
    "    device=device,\n",
    "    iterations=10,\n",
    "    root_dir=dataset_path,\n",
    "    epochs_per_iter=3,\n",
    "    budget_per_iter=100,\n",
    "    model_name='resnet18',\n",
    "    objective_function_name='BCEWithLogitsLoss',\n",
    "    optimizer_name='Adam',\n",
    "    seed=42\n",
    "    # dataset=dataset\n",
    ")\n",
    "\n"
   ]
  },
  {
   "cell_type": "code",
   "execution_count": 8,
   "id": "ad08f123",
   "metadata": {},
   "outputs": [
    {
     "name": "stdout",
     "output_type": "stream",
     "text": [
      "Iteration 1/10\n",
      "Loading pretrained ResNet18 model...\n"
     ]
    },
    {
     "ename": "ValueError",
     "evalue": "num_samples should be a positive integer value, but got num_samples=0",
     "output_type": "error",
     "traceback": [
      "\u001b[0;31m---------------------------------------------------------------------------\u001b[0m",
      "\u001b[0;31mValueError\u001b[0m                                Traceback (most recent call last)",
      "Cell \u001b[0;32mIn[8], line 1\u001b[0m\n\u001b[0;32m----> 1\u001b[0m \u001b[43mactive_learning_pipeline\u001b[49m\u001b[38;5;241;43m.\u001b[39;49m\u001b[43mrun_pipeline\u001b[49m\u001b[43m(\u001b[49m\u001b[43m)\u001b[49m\n\u001b[1;32m      2\u001b[0m plot_results(active_learning_pipeline)\n",
      "File \u001b[0;32m~/ActiveScanLab/active_learning_models.py:67\u001b[0m, in \u001b[0;36mActiveLearningPipeline.run_pipeline\u001b[0;34m(self)\u001b[0m\n\u001b[1;32m     63\u001b[0m     \u001b[38;5;28;01mraise\u001b[39;00m \u001b[38;5;167;01mValueError\u001b[39;00m(\u001b[38;5;124m\"\u001b[39m\u001b[38;5;124mThe train set is larger than 600 samples\u001b[39m\u001b[38;5;124m\"\u001b[39m)\n\u001b[1;32m     65\u001b[0m \u001b[38;5;28mprint\u001b[39m(\u001b[38;5;124mf\u001b[39m\u001b[38;5;124m\"\u001b[39m\u001b[38;5;124mIteration \u001b[39m\u001b[38;5;132;01m{\u001b[39;00miteration\u001b[38;5;250m \u001b[39m\u001b[38;5;241m+\u001b[39m\u001b[38;5;250m \u001b[39m\u001b[38;5;241m1\u001b[39m\u001b[38;5;132;01m}\u001b[39;00m\u001b[38;5;124m/\u001b[39m\u001b[38;5;132;01m{\u001b[39;00m\u001b[38;5;28mself\u001b[39m\u001b[38;5;241m.\u001b[39miterations\u001b[38;5;132;01m}\u001b[39;00m\u001b[38;5;124m\"\u001b[39m)\n\u001b[0;32m---> 67\u001b[0m trained_model \u001b[38;5;241m=\u001b[39m \u001b[38;5;28;43mself\u001b[39;49m\u001b[38;5;241;43m.\u001b[39;49m\u001b[43m_train_model\u001b[49m\u001b[43m(\u001b[49m\u001b[43m)\u001b[49m\n\u001b[1;32m     68\u001b[0m accuracy, recall \u001b[38;5;241m=\u001b[39m \u001b[38;5;28mself\u001b[39m\u001b[38;5;241m.\u001b[39m_evaluate_model(trained_model)\n\u001b[1;32m     69\u001b[0m accuracy_scores\u001b[38;5;241m.\u001b[39mappend(accuracy)\n",
      "File \u001b[0;32m~/ActiveScanLab/active_learning_models.py:104\u001b[0m, in \u001b[0;36mActiveLearningPipeline._train_model\u001b[0;34m(self)\u001b[0m\n\u001b[1;32m    100\u001b[0m model\u001b[38;5;241m.\u001b[39mto(\u001b[38;5;28mself\u001b[39m\u001b[38;5;241m.\u001b[39mdevice)\n\u001b[1;32m    101\u001b[0m \u001b[38;5;66;03m# train_df = self.dataset[self.dataset['Image Index'].isin(self.train_indices)] \u001b[39;00m\n\u001b[1;32m    102\u001b[0m \u001b[38;5;66;03m# train_dataset = ChestXrayDataset(train_df, self.root_dir)\u001b[39;00m\n\u001b[1;32m    103\u001b[0m \u001b[38;5;66;03m# train_loader = DataLoader(train_dataset, batch_size=self.batch_size, shuffle=True)\u001b[39;00m\n\u001b[0;32m--> 104\u001b[0m train_loader \u001b[38;5;241m=\u001b[39m \u001b[38;5;28;43mself\u001b[39;49m\u001b[38;5;241;43m.\u001b[39;49m\u001b[43mdataset\u001b[49m\u001b[38;5;241;43m.\u001b[39;49m\u001b[43mget_dataloader\u001b[49m\u001b[43m(\u001b[49m\u001b[43mfrom_split\u001b[49m\u001b[38;5;241;43m=\u001b[39;49m\u001b[38;5;124;43m'\u001b[39;49m\u001b[38;5;124;43mtrain\u001b[39;49m\u001b[38;5;124;43m'\u001b[39;49m\u001b[43m,\u001b[49m\u001b[43m \u001b[49m\u001b[43mindices\u001b[49m\u001b[38;5;241;43m=\u001b[39;49m\u001b[38;5;28;43mself\u001b[39;49m\u001b[38;5;241;43m.\u001b[39;49m\u001b[43mtrain_indices\u001b[49m\u001b[43m,\u001b[49m\u001b[43m \u001b[49m\u001b[43mbatch_size\u001b[49m\u001b[38;5;241;43m=\u001b[39;49m\u001b[38;5;28;43mself\u001b[39;49m\u001b[38;5;241;43m.\u001b[39;49m\u001b[43mbatch_size\u001b[49m\u001b[43m)\u001b[49m\n\u001b[1;32m    105\u001b[0m model\u001b[38;5;241m.\u001b[39mtrain()\n\u001b[1;32m    106\u001b[0m \u001b[38;5;28;01mfor\u001b[39;00m epoch \u001b[38;5;129;01min\u001b[39;00m \u001b[38;5;28mrange\u001b[39m(\u001b[38;5;28mself\u001b[39m\u001b[38;5;241m.\u001b[39mepochs_per_iter):\n",
      "File \u001b[0;32m~/ActiveScanLab/costume_dataset.py:150\u001b[0m, in \u001b[0;36mChestXrayDataset.get_dataloader\u001b[0;34m(self, from_split, indices, sample_size, batch_size)\u001b[0m\n\u001b[1;32m    148\u001b[0m     df \u001b[38;5;241m=\u001b[39m df\u001b[38;5;241m.\u001b[39mloc[indices]\n\u001b[1;32m    149\u001b[0m dataset \u001b[38;5;241m=\u001b[39m ChestXrayDatasetTrain(df, \u001b[38;5;28mself\u001b[39m\u001b[38;5;241m.\u001b[39mroot_dir)\n\u001b[0;32m--> 150\u001b[0m \u001b[38;5;28;01mreturn\u001b[39;00m \u001b[43mDataLoader\u001b[49m\u001b[43m(\u001b[49m\u001b[43mdataset\u001b[49m\u001b[43m,\u001b[49m\u001b[43m \u001b[49m\u001b[43mbatch_size\u001b[49m\u001b[38;5;241;43m=\u001b[39;49m\u001b[43mbatch_size\u001b[49m\u001b[43m,\u001b[49m\u001b[43m \u001b[49m\u001b[43mshuffle\u001b[49m\u001b[38;5;241;43m=\u001b[39;49m\u001b[43mshuffle\u001b[49m\u001b[43m)\u001b[49m\n",
      "File \u001b[0;32m/anaconda/envs/azureml_py310_sdkv2/lib/python3.10/site-packages/torch/utils/data/dataloader.py:376\u001b[0m, in \u001b[0;36mDataLoader.__init__\u001b[0;34m(self, dataset, batch_size, shuffle, sampler, batch_sampler, num_workers, collate_fn, pin_memory, drop_last, timeout, worker_init_fn, multiprocessing_context, generator, prefetch_factor, persistent_workers, pin_memory_device)\u001b[0m\n\u001b[1;32m    374\u001b[0m \u001b[38;5;28;01melse\u001b[39;00m:  \u001b[38;5;66;03m# map-style\u001b[39;00m\n\u001b[1;32m    375\u001b[0m     \u001b[38;5;28;01mif\u001b[39;00m shuffle:\n\u001b[0;32m--> 376\u001b[0m         sampler \u001b[38;5;241m=\u001b[39m \u001b[43mRandomSampler\u001b[49m\u001b[43m(\u001b[49m\u001b[43mdataset\u001b[49m\u001b[43m,\u001b[49m\u001b[43m \u001b[49m\u001b[43mgenerator\u001b[49m\u001b[38;5;241;43m=\u001b[39;49m\u001b[43mgenerator\u001b[49m\u001b[43m)\u001b[49m  \u001b[38;5;66;03m# type: ignore[arg-type]\u001b[39;00m\n\u001b[1;32m    377\u001b[0m     \u001b[38;5;28;01melse\u001b[39;00m:\n\u001b[1;32m    378\u001b[0m         sampler \u001b[38;5;241m=\u001b[39m SequentialSampler(dataset)  \u001b[38;5;66;03m# type: ignore[arg-type]\u001b[39;00m\n",
      "File \u001b[0;32m/anaconda/envs/azureml_py310_sdkv2/lib/python3.10/site-packages/torch/utils/data/sampler.py:164\u001b[0m, in \u001b[0;36mRandomSampler.__init__\u001b[0;34m(self, data_source, replacement, num_samples, generator)\u001b[0m\n\u001b[1;32m    159\u001b[0m     \u001b[38;5;28;01mraise\u001b[39;00m \u001b[38;5;167;01mTypeError\u001b[39;00m(\n\u001b[1;32m    160\u001b[0m         \u001b[38;5;124mf\u001b[39m\u001b[38;5;124m\"\u001b[39m\u001b[38;5;124mreplacement should be a boolean value, but got replacement=\u001b[39m\u001b[38;5;132;01m{\u001b[39;00m\u001b[38;5;28mself\u001b[39m\u001b[38;5;241m.\u001b[39mreplacement\u001b[38;5;132;01m}\u001b[39;00m\u001b[38;5;124m\"\u001b[39m\n\u001b[1;32m    161\u001b[0m     )\n\u001b[1;32m    163\u001b[0m \u001b[38;5;28;01mif\u001b[39;00m \u001b[38;5;129;01mnot\u001b[39;00m \u001b[38;5;28misinstance\u001b[39m(\u001b[38;5;28mself\u001b[39m\u001b[38;5;241m.\u001b[39mnum_samples, \u001b[38;5;28mint\u001b[39m) \u001b[38;5;129;01mor\u001b[39;00m \u001b[38;5;28mself\u001b[39m\u001b[38;5;241m.\u001b[39mnum_samples \u001b[38;5;241m<\u001b[39m\u001b[38;5;241m=\u001b[39m \u001b[38;5;241m0\u001b[39m:\n\u001b[0;32m--> 164\u001b[0m     \u001b[38;5;28;01mraise\u001b[39;00m \u001b[38;5;167;01mValueError\u001b[39;00m(\n\u001b[1;32m    165\u001b[0m         \u001b[38;5;124mf\u001b[39m\u001b[38;5;124m\"\u001b[39m\u001b[38;5;124mnum_samples should be a positive integer value, but got num_samples=\u001b[39m\u001b[38;5;132;01m{\u001b[39;00m\u001b[38;5;28mself\u001b[39m\u001b[38;5;241m.\u001b[39mnum_samples\u001b[38;5;132;01m}\u001b[39;00m\u001b[38;5;124m\"\u001b[39m\n\u001b[1;32m    166\u001b[0m     )\n",
      "\u001b[0;31mValueError\u001b[0m: num_samples should be a positive integer value, but got num_samples=0"
     ]
    }
   ],
   "source": [
    "active_learning_pipeline.run_pipeline()\n",
    "plot_results(active_learning_pipeline)"
   ]
  },
  {
   "cell_type": "code",
   "execution_count": 6,
   "id": "822eac84",
   "metadata": {},
   "outputs": [
    {
     "ename": "NameError",
     "evalue": "name 'dataset' is not defined",
     "output_type": "error",
     "traceback": [
      "\u001b[0;31m---------------------------------------------------------------------------\u001b[0m",
      "\u001b[0;31mNameError\u001b[0m                                 Traceback (most recent call last)",
      "Cell \u001b[0;32mIn[6], line 1\u001b[0m\n\u001b[0;32m----> 1\u001b[0m \u001b[43mdataset\u001b[49m\n",
      "\u001b[0;31mNameError\u001b[0m: name 'dataset' is not defined"
     ]
    }
   ],
   "source": [
    "dataset"
   ]
  },
  {
   "cell_type": "code",
   "execution_count": null,
   "id": "af41501d",
   "metadata": {},
   "outputs": [],
   "source": []
  }
 ],
 "metadata": {
  "kernelspec": {
   "display_name": "azureml_py310_sdkv2",
   "language": "python",
   "name": "python3"
  },
  "language_info": {
   "codemirror_mode": {
    "name": "ipython",
    "version": 3
   },
   "file_extension": ".py",
   "mimetype": "text/x-python",
   "name": "python",
   "nbconvert_exporter": "python",
   "pygments_lexer": "ipython3",
   "version": "3.10.16"
  }
 },
 "nbformat": 4,
 "nbformat_minor": 5
}
